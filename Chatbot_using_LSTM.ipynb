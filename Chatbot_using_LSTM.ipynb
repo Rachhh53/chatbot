{
  "nbformat": 4,
  "nbformat_minor": 0,
  "metadata": {
    "colab": {
      "name": "Chatbot_using_LSTM.ipynb",
      "provenance": [],
      "collapsed_sections": [],
      "toc_visible": true,
      "include_colab_link": true
    },
    "kernelspec": {
      "name": "python3",
      "display_name": "Python 3"
    }
  },
  "cells": [
    {
      "cell_type": "markdown",
      "metadata": {
        "id": "view-in-github",
        "colab_type": "text"
      },
      "source": [
        "<a href=\"https://colab.research.google.com/github/Rachhh53/chatbot/blob/main/Chatbot_using_LSTM.ipynb\" target=\"_parent\"><img src=\"https://colab.research.google.com/assets/colab-badge.svg\" alt=\"Open In Colab\"/></a>"
      ]
    },
    {
      "cell_type": "markdown",
      "metadata": {
        "id": "6xoKYBBO6xaV"
      },
      "source": [
        "# **Chatbot using Seq2Seq LSTM models**"
      ]
    },
    {
      "cell_type": "markdown",
      "metadata": {
        "id": "2SOmE99B7Is0"
      },
      "source": [
        "This project is to create conversational chatbot using Sequence to sequence LSTM models. \n",
        "Sequence to sequence learning is about training models to convert from one domain to sequences another domain. "
      ]
    },
    {
      "cell_type": "markdown",
      "metadata": {
        "id": "mVuZTAV08qWY"
      },
      "source": [
        "# Step 1: Import all the packages "
      ]
    },
    {
      "cell_type": "code",
      "metadata": {
        "id": "U0mJXRse83hp"
      },
      "source": [
        "import numpy as np \n",
        "import tensorflow as tf\n",
        "import pickle\n",
        "from tensorflow.keras import layers, activations, models, preprocessing"
      ],
      "execution_count": 1,
      "outputs": []
    },
    {
      "cell_type": "markdown",
      "metadata": {
        "id": "aL0Rz6JZ9eLW"
      },
      "source": [
        "# Step 2: Download all the data from kaggle"
      ]
    },
    {
      "cell_type": "code",
      "metadata": {
        "id": "79eY9jkA9lnq",
        "colab": {
          "base_uri": "https://localhost:8080/"
        },
        "outputId": "20cb6e90-129c-4f44-f9fe-cb6a949f4901"
      },
      "source": [
        "!pip install kaggle "
      ],
      "execution_count": 2,
      "outputs": [
        {
          "output_type": "stream",
          "name": "stdout",
          "text": [
            "Looking in indexes: https://pypi.org/simple, https://us-python.pkg.dev/colab-wheels/public/simple/\n",
            "Requirement already satisfied: kaggle in /usr/local/lib/python3.7/dist-packages (1.5.12)\n",
            "Requirement already satisfied: certifi in /usr/local/lib/python3.7/dist-packages (from kaggle) (2022.6.15)\n",
            "Requirement already satisfied: six>=1.10 in /usr/local/lib/python3.7/dist-packages (from kaggle) (1.15.0)\n",
            "Requirement already satisfied: urllib3 in /usr/local/lib/python3.7/dist-packages (from kaggle) (1.24.3)\n",
            "Requirement already satisfied: tqdm in /usr/local/lib/python3.7/dist-packages (from kaggle) (4.64.0)\n",
            "Requirement already satisfied: python-slugify in /usr/local/lib/python3.7/dist-packages (from kaggle) (6.1.2)\n",
            "Requirement already satisfied: requests in /usr/local/lib/python3.7/dist-packages (from kaggle) (2.23.0)\n",
            "Requirement already satisfied: python-dateutil in /usr/local/lib/python3.7/dist-packages (from kaggle) (2.8.2)\n",
            "Requirement already satisfied: text-unidecode>=1.3 in /usr/local/lib/python3.7/dist-packages (from python-slugify->kaggle) (1.3)\n",
            "Requirement already satisfied: chardet<4,>=3.0.2 in /usr/local/lib/python3.7/dist-packages (from requests->kaggle) (3.0.4)\n",
            "Requirement already satisfied: idna<3,>=2.5 in /usr/local/lib/python3.7/dist-packages (from requests->kaggle) (2.10)\n"
          ]
        }
      ]
    },
    {
      "cell_type": "code",
      "metadata": {
        "id": "6cU-sP689zyx",
        "colab": {
          "resources": {
            "http://localhost:8080/nbextensions/google.colab/files.js": {
              "data": "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",
              "ok": true,
              "headers": [
                [
                  "content-type",
                  "application/javascript"
                ]
              ],
              "status": 200,
              "status_text": ""
            }
          },
          "base_uri": "https://localhost:8080/",
          "height": 91
        },
        "outputId": "e93adbb8-7be1-4f00-baf0-c6edff925670"
      },
      "source": [
        "from google.colab import files\n",
        "files.upload()"
      ],
      "execution_count": 3,
      "outputs": [
        {
          "output_type": "display_data",
          "data": {
            "text/plain": [
              "<IPython.core.display.HTML object>"
            ],
            "text/html": [
              "\n",
              "     <input type=\"file\" id=\"files-fd592f53-dd1e-4ef9-8bb4-953ac3ae25b2\" name=\"files[]\" multiple disabled\n",
              "        style=\"border:none\" />\n",
              "     <output id=\"result-fd592f53-dd1e-4ef9-8bb4-953ac3ae25b2\">\n",
              "      Upload widget is only available when the cell has been executed in the\n",
              "      current browser session. Please rerun this cell to enable.\n",
              "      </output>\n",
              "      <script src=\"/nbextensions/google.colab/files.js\"></script> "
            ]
          },
          "metadata": {}
        },
        {
          "output_type": "stream",
          "name": "stdout",
          "text": [
            "Saving kaggle.json to kaggle.json\n"
          ]
        },
        {
          "output_type": "execute_result",
          "data": {
            "text/plain": [
              "{'kaggle.json': b'{\"username\":\"rachiebess\",\"key\":\"3c496c8f56467a6050777e65bcdb80c2\"}'}"
            ]
          },
          "metadata": {},
          "execution_count": 3
        }
      ]
    },
    {
      "cell_type": "code",
      "metadata": {
        "id": "raW7lVdQ9z7k"
      },
      "source": [
        "!mkdir -p ~/.kaggle"
      ],
      "execution_count": 4,
      "outputs": []
    },
    {
      "cell_type": "code",
      "metadata": {
        "id": "Adp0zjFP90Bl"
      },
      "source": [
        "!cp kaggle.json ~/.kaggle/"
      ],
      "execution_count": 5,
      "outputs": []
    },
    {
      "cell_type": "code",
      "metadata": {
        "id": "mPpi-Suj9z4s",
        "colab": {
          "base_uri": "https://localhost:8080/"
        },
        "outputId": "bda90e27-8ec3-44eb-876a-efd4001641df"
      },
      "source": [
        "!ls ~/.kaggle"
      ],
      "execution_count": 6,
      "outputs": [
        {
          "output_type": "stream",
          "name": "stdout",
          "text": [
            "kaggle.json\n"
          ]
        }
      ]
    },
    {
      "cell_type": "code",
      "metadata": {
        "id": "1gocz2gG9zsC"
      },
      "source": [
        "!chmod 600 /root/.kaggle/kaggle.json"
      ],
      "execution_count": 7,
      "outputs": []
    },
    {
      "cell_type": "code",
      "metadata": {
        "id": "Rq0zmSYy-S0R",
        "colab": {
          "base_uri": "https://localhost:8080/"
        },
        "outputId": "71cb1b3d-5fe5-498d-ecac-afd542919f6a"
      },
      "source": [
        "!kaggle datasets download -d kausr25/chatterbotenglish"
      ],
      "execution_count": 8,
      "outputs": [
        {
          "output_type": "stream",
          "name": "stdout",
          "text": [
            "Downloading chatterbotenglish.zip to /content\n",
            "\r  0% 0.00/23.2k [00:00<?, ?B/s]\n",
            "\r100% 23.2k/23.2k [00:00<00:00, 16.3MB/s]\n"
          ]
        }
      ]
    },
    {
      "cell_type": "code",
      "metadata": {
        "id": "8yk6kTtM-bQ0",
        "colab": {
          "base_uri": "https://localhost:8080/"
        },
        "outputId": "a4771298-a59a-4ce4-ca7e-cf653be7c92a"
      },
      "source": [
        "!unzip /content/chatterbotenglish.zip"
      ],
      "execution_count": 9,
      "outputs": [
        {
          "output_type": "stream",
          "name": "stdout",
          "text": [
            "Archive:  /content/chatterbotenglish.zip\n",
            "  inflating: ai.yml                  \n",
            "  inflating: botprofile.yml          \n",
            "  inflating: computers.yml           \n",
            "  inflating: emotion.yml             \n",
            "  inflating: food.yml                \n",
            "  inflating: gossip.yml              \n",
            "  inflating: greetings.yml           \n",
            "  inflating: health.yml              \n",
            "  inflating: history.yml             \n",
            "  inflating: humor.yml               \n",
            "  inflating: literature.yml          \n",
            "  inflating: money.yml               \n",
            "  inflating: movies.yml              \n",
            "  inflating: politics.yml            \n",
            "  inflating: psychology.yml          \n",
            "  inflating: science.yml             \n",
            "  inflating: sports.yml              \n",
            "  inflating: trivia.yml              \n"
          ]
        }
      ]
    },
    {
      "cell_type": "code",
      "metadata": {
        "id": "0PMKhVnUHwGi",
        "colab": {
          "base_uri": "https://localhost:8080/"
        },
        "outputId": "03fb17b2-b10d-4f0c-e38b-7bdc176afdf1"
      },
      "source": [
        "!wget https://github.com/shubham0204/Dataset_Archives/blob/master/chatbot_nlp.zip?raw=true -O chatbot_nlp.zip\n",
        "!unzip chatbot_nlp.zip"
      ],
      "execution_count": 10,
      "outputs": [
        {
          "output_type": "stream",
          "name": "stdout",
          "text": [
            "--2022-08-20 23:06:37--  https://github.com/shubham0204/Dataset_Archives/blob/master/chatbot_nlp.zip?raw=true\n",
            "Resolving github.com (github.com)... 140.82.114.4\n",
            "Connecting to github.com (github.com)|140.82.114.4|:443... connected.\n",
            "HTTP request sent, awaiting response... 302 Found\n",
            "Location: https://github.com/shubham0204/Dataset_Archives/raw/master/chatbot_nlp.zip [following]\n",
            "--2022-08-20 23:06:37--  https://github.com/shubham0204/Dataset_Archives/raw/master/chatbot_nlp.zip\n",
            "Reusing existing connection to github.com:443.\n",
            "HTTP request sent, awaiting response... 302 Found\n",
            "Location: https://raw.githubusercontent.com/shubham0204/Dataset_Archives/master/chatbot_nlp.zip [following]\n",
            "--2022-08-20 23:06:37--  https://raw.githubusercontent.com/shubham0204/Dataset_Archives/master/chatbot_nlp.zip\n",
            "Resolving raw.githubusercontent.com (raw.githubusercontent.com)... 185.199.108.133, 185.199.109.133, 185.199.111.133, ...\n",
            "Connecting to raw.githubusercontent.com (raw.githubusercontent.com)|185.199.108.133|:443... connected.\n",
            "HTTP request sent, awaiting response... 200 OK\n",
            "Length: 24292 (24K) [application/zip]\n",
            "Saving to: ‘chatbot_nlp.zip’\n",
            "\n",
            "chatbot_nlp.zip     100%[===================>]  23.72K  --.-KB/s    in 0.001s  \n",
            "\n",
            "2022-08-20 23:06:37 (15.8 MB/s) - ‘chatbot_nlp.zip’ saved [24292/24292]\n",
            "\n",
            "Archive:  chatbot_nlp.zip\n",
            "   creating: chatbot_nlp/\n",
            "   creating: chatbot_nlp/data/\n",
            "  inflating: chatbot_nlp/data/ai.yml  \n",
            "  inflating: chatbot_nlp/data/botprofile.yml  \n",
            "  inflating: chatbot_nlp/data/computers.yml  \n",
            "  inflating: chatbot_nlp/data/emotion.yml  \n",
            "  inflating: chatbot_nlp/data/food.yml  \n",
            "  inflating: chatbot_nlp/data/gossip.yml  \n",
            "  inflating: chatbot_nlp/data/greetings.yml  \n",
            "  inflating: chatbot_nlp/data/health.yml  \n",
            "  inflating: chatbot_nlp/data/history.yml  \n",
            "  inflating: chatbot_nlp/data/humor.yml  \n",
            "  inflating: chatbot_nlp/data/literature.yml  \n",
            "  inflating: chatbot_nlp/data/money.yml  \n",
            "  inflating: chatbot_nlp/data/movies.yml  \n",
            "  inflating: chatbot_nlp/data/politics.yml  \n",
            "  inflating: chatbot_nlp/data/psychology.yml  \n",
            "  inflating: chatbot_nlp/data/science.yml  \n",
            "  inflating: chatbot_nlp/data/sports.yml  \n",
            "  inflating: chatbot_nlp/data/trivia.yml  \n"
          ]
        }
      ]
    },
    {
      "cell_type": "markdown",
      "metadata": {
        "id": "l4kJp6uO-fQE"
      },
      "source": [
        "# Step 3: Preprocessing the data"
      ]
    },
    {
      "cell_type": "markdown",
      "metadata": {
        "id": "QEV_hSXs-7mF"
      },
      "source": [
        "### a) Reading the data from the files\n",
        "We parse each of the .yaml files.\n",
        "\n",
        "1. Concatenate two or more sentences if the answer has two or more of them.\n",
        "2. Remove unwanted data types which are produced while parsing the data.\n",
        "3. Append <START> and <END> to all the answers.\n",
        "4. Create a Tokenizer and load the whole vocabulary ( questions + answers ) into it."
      ]
    },
    {
      "cell_type": "code",
      "metadata": {
        "id": "kWYOjzOc_iQi"
      },
      "source": [
        "from tensorflow.keras import preprocessing, utils\n",
        "import os\n",
        "import yaml"
      ],
      "execution_count": 11,
      "outputs": []
    },
    {
      "cell_type": "markdown",
      "metadata": {
        "id": "qyUnopqjDjud"
      },
      "source": [
        "The dataset contains .yml files which have pairs of different questions and their answers on varied subjects like history, bot profile, science etc.\n",
        "We can easily read them as folows:"
      ]
    },
    {
      "cell_type": "code",
      "metadata": {
        "id": "RxG-s4k0CowI"
      },
      "source": [
        "dir_path = '/content/chatbot_nlp/data'\n",
        "files_list = os.listdir(dir_path + os.sep)"
      ],
      "execution_count": 12,
      "outputs": []
    },
    {
      "cell_type": "code",
      "metadata": {
        "id": "-bRvbQ00Coy5",
        "colab": {
          "base_uri": "https://localhost:8080/"
        },
        "outputId": "1c2c2a54-6bd2-4abb-960c-1c8f9c235624"
      },
      "source": [
        "questions = list()\n",
        "answers = list()\n",
        "\n",
        "for filepath in files_list:\n",
        "    stream = open( dir_path + os.sep + filepath , 'rb')\n",
        "    docs = yaml.safe_load(stream)\n",
        "    conversations = docs['conversations']\n",
        "    for con in conversations:\n",
        "        if len( con ) > 2 :\n",
        "            questions.append(con[0])\n",
        "            replies = con[ 1 : ]\n",
        "            ans = ''\n",
        "            for rep in replies:\n",
        "                ans += ' ' + rep\n",
        "            answers.append( ans )\n",
        "        elif len( con )> 1:\n",
        "            questions.append(con[0])\n",
        "            answers.append(con[1])\n",
        "\n",
        "answers_with_tags = list()\n",
        "for i in range( len( answers ) ):\n",
        "    if type( answers[i] ) == str:\n",
        "        answers_with_tags.append( answers[i] )\n",
        "    else:\n",
        "        questions.pop( i )\n",
        "\n",
        "answers = list()\n",
        "for i in range( len( answers_with_tags ) ) :\n",
        "    answers.append( '<START> ' + answers_with_tags[i] + ' <END>' )\n",
        "\n",
        "tokenizer = preprocessing.text.Tokenizer()\n",
        "tokenizer.fit_on_texts( questions + answers )\n",
        "VOCAB_SIZE = len( tokenizer.word_index )+1\n",
        "print( 'VOCAB SIZE : {}'.format( VOCAB_SIZE ))"
      ],
      "execution_count": 13,
      "outputs": [
        {
          "output_type": "stream",
          "name": "stdout",
          "text": [
            "VOCAB SIZE : 1894\n"
          ]
        }
      ]
    },
    {
      "cell_type": "markdown",
      "metadata": {
        "id": "WMPqb8LxIeGI"
      },
      "source": [
        "### b) Preparing data for Seq2Seq model\n",
        "\n",
        "This model requires 3 arrays encoder_input_data, decoder_input_data and decoder_output_data.\n",
        "\n",
        "For encoder_input_data:\n",
        "Tokensize the Questions and Pad them to their maximum Length.\n",
        "\n",
        "For decoder_input_data:\n",
        "Tokensize the Answers and Pad them to their maximum Length.\n",
        "\n",
        "For decoder_output_data:\n",
        "Tokensize the Answers and Remove the 1st element from all the tokenized_answers. This is the <START> element which was added earlier."
      ]
    },
    {
      "cell_type": "code",
      "metadata": {
        "id": "oEfAPL4HCo1t"
      },
      "source": [
        "from gensim.models import Word2Vec\n",
        "import re"
      ],
      "execution_count": 14,
      "outputs": []
    },
    {
      "cell_type": "code",
      "metadata": {
        "id": "QqYoDsbSCo4f"
      },
      "source": [
        "vocab = []\n",
        "for word in tokenizer.word_index:\n",
        "  vocab.append(word)\n",
        "\n",
        "def tokenize(sentences):\n",
        "  tokens_list = []\n",
        "  vocabulary = []\n",
        "  for sentence in sentences:\n",
        "    sentence = sentence.lower()\n",
        "    sentence = re.sub('[^a-zA-Z]', ' ', sentence)\n",
        "    tokens = sentence.split()\n",
        "    vocabulary += tokens\n",
        "    tokens_list.append(tokens)\n",
        "  return tokens_list, vocabulary"
      ],
      "execution_count": 15,
      "outputs": []
    },
    {
      "cell_type": "code",
      "metadata": {
        "id": "9vKhieIwCo7J",
        "colab": {
          "base_uri": "https://localhost:8080/"
        },
        "outputId": "92338a3f-7ecf-48ac-d845-c65d7b9202c7"
      },
      "source": [
        "#encoder_input_data\n",
        "tokenized_questions = tokenizer.texts_to_sequences( questions )\n",
        "maxlen_questions = max( [len(x) for x in tokenized_questions ] )\n",
        "padded_questions = preprocessing.sequence.pad_sequences( tokenized_questions, maxlen = maxlen_questions, padding = 'post')\n",
        "encoder_input_data = np.array(padded_questions)\n",
        "print(encoder_input_data.shape, maxlen_questions)"
      ],
      "execution_count": 16,
      "outputs": [
        {
          "output_type": "stream",
          "name": "stdout",
          "text": [
            "(564, 22) 22\n"
          ]
        }
      ]
    },
    {
      "cell_type": "code",
      "metadata": {
        "id": "AJo7WPjLCo-q",
        "colab": {
          "base_uri": "https://localhost:8080/"
        },
        "outputId": "43b54b6a-ed7a-4312-c805-a6697e982e08"
      },
      "source": [
        "# decoder_input_data\n",
        "tokenized_answers = tokenizer.texts_to_sequences( answers )\n",
        "maxlen_answers = max( [ len(x) for x in tokenized_answers ] )\n",
        "padded_answers = preprocessing.sequence.pad_sequences( tokenized_answers , maxlen=maxlen_answers , padding='post' )\n",
        "decoder_input_data = np.array( padded_answers )\n",
        "print( decoder_input_data.shape , maxlen_answers )"
      ],
      "execution_count": 17,
      "outputs": [
        {
          "output_type": "stream",
          "name": "stdout",
          "text": [
            "(564, 74) 74\n"
          ]
        }
      ]
    },
    {
      "cell_type": "code",
      "metadata": {
        "id": "ccY0wWdRCpCa",
        "colab": {
          "base_uri": "https://localhost:8080/"
        },
        "outputId": "da5465fb-3230-473a-c940-cb58a282a605"
      },
      "source": [
        "# decoder_output_data\n",
        "tokenized_answers = tokenizer.texts_to_sequences( answers )\n",
        "for i in range(len(tokenized_answers)) :\n",
        "    tokenized_answers[i] = tokenized_answers[i][1:]\n",
        "padded_answers = preprocessing.sequence.pad_sequences( tokenized_answers , maxlen=maxlen_answers , padding='post' )\n",
        "onehot_answers = utils.to_categorical( padded_answers , VOCAB_SIZE )\n",
        "decoder_output_data = np.array( onehot_answers )\n",
        "print( decoder_output_data.shape )"
      ],
      "execution_count": 18,
      "outputs": [
        {
          "output_type": "stream",
          "name": "stdout",
          "text": [
            "(564, 74, 1894)\n"
          ]
        }
      ]
    },
    {
      "cell_type": "markdown",
      "metadata": {
        "id": "-D53pyucPCnk"
      },
      "source": [
        "# Step 4: Defining Encoder Decoder Model\n",
        "\n",
        "\n",
        "\n"
      ]
    },
    {
      "cell_type": "code",
      "metadata": {
        "id": "W3YjCFDwPRVN",
        "colab": {
          "base_uri": "https://localhost:8080/"
        },
        "outputId": "1f6933b6-14a9-4155-eb1f-fd8561545163"
      },
      "source": [
        "encoder_inputs = tf.keras.layers.Input(shape=( maxlen_questions , ))\n",
        "encoder_embedding = tf.keras.layers.Embedding( VOCAB_SIZE, 200 , mask_zero=True ) (encoder_inputs)\n",
        "encoder_outputs , state_h , state_c = tf.keras.layers.LSTM( 200 , return_state=True )( encoder_embedding )\n",
        "encoder_states = [ state_h , state_c ]\n",
        "\n",
        "decoder_inputs = tf.keras.layers.Input(shape=( maxlen_answers ,  ))\n",
        "decoder_embedding = tf.keras.layers.Embedding( VOCAB_SIZE, 200 , mask_zero=True) (decoder_inputs)\n",
        "decoder_lstm = tf.keras.layers.LSTM( 200 , return_state=True , return_sequences=True )\n",
        "decoder_outputs , _ , _ = decoder_lstm ( decoder_embedding , initial_state=encoder_states )\n",
        "decoder_dense = tf.keras.layers.Dense( VOCAB_SIZE , activation=tf.keras.activations.softmax ) \n",
        "output = decoder_dense ( decoder_outputs )\n",
        "\n",
        "model = tf.keras.models.Model([encoder_inputs, decoder_inputs], output )\n",
        "model.compile(optimizer=tf.keras.optimizers.RMSprop(), loss='categorical_crossentropy')\n",
        "\n",
        "model.summary()"
      ],
      "execution_count": 19,
      "outputs": [
        {
          "output_type": "stream",
          "name": "stdout",
          "text": [
            "Model: \"model\"\n",
            "__________________________________________________________________________________________________\n",
            " Layer (type)                   Output Shape         Param #     Connected to                     \n",
            "==================================================================================================\n",
            " input_1 (InputLayer)           [(None, 22)]         0           []                               \n",
            "                                                                                                  \n",
            " input_2 (InputLayer)           [(None, 74)]         0           []                               \n",
            "                                                                                                  \n",
            " embedding (Embedding)          (None, 22, 200)      378800      ['input_1[0][0]']                \n",
            "                                                                                                  \n",
            " embedding_1 (Embedding)        (None, 74, 200)      378800      ['input_2[0][0]']                \n",
            "                                                                                                  \n",
            " lstm (LSTM)                    [(None, 200),        320800      ['embedding[0][0]']              \n",
            "                                 (None, 200),                                                     \n",
            "                                 (None, 200)]                                                     \n",
            "                                                                                                  \n",
            " lstm_1 (LSTM)                  [(None, 74, 200),    320800      ['embedding_1[0][0]',            \n",
            "                                 (None, 200),                     'lstm[0][1]',                   \n",
            "                                 (None, 200)]                     'lstm[0][2]']                   \n",
            "                                                                                                  \n",
            " dense (Dense)                  (None, 74, 1894)     380694      ['lstm_1[0][0]']                 \n",
            "                                                                                                  \n",
            "==================================================================================================\n",
            "Total params: 1,779,894\n",
            "Trainable params: 1,779,894\n",
            "Non-trainable params: 0\n",
            "__________________________________________________________________________________________________\n"
          ]
        }
      ]
    },
    {
      "cell_type": "markdown",
      "metadata": {
        "id": "wVfSormAPb3w"
      },
      "source": [
        "# Step 5: Training the Model\n",
        "\n",
        "We train the model for a number of epochs with RMSprop optimizer and categorical_crossentropy loss function."
      ]
    },
    {
      "cell_type": "code",
      "metadata": {
        "id": "OHlqQq64PYTH",
        "colab": {
          "base_uri": "https://localhost:8080/"
        },
        "outputId": "ccc57a8e-9d0b-47e7-fbb8-861c7c62d949"
      },
      "source": [
        "model.fit([encoder_input_data , decoder_input_data], decoder_output_data, batch_size=50, epochs=150 ) \n",
        "model.save( 'model.h5' )"
      ],
      "execution_count": 20,
      "outputs": [
        {
          "output_type": "stream",
          "name": "stdout",
          "text": [
            "Epoch 1/150\n",
            "12/12 [==============================] - 16s 573ms/step - loss: 1.2952\n",
            "Epoch 2/150\n",
            "12/12 [==============================] - 7s 572ms/step - loss: 1.1153\n",
            "Epoch 3/150\n",
            "12/12 [==============================] - 7s 609ms/step - loss: 1.0935\n",
            "Epoch 4/150\n",
            "12/12 [==============================] - 7s 591ms/step - loss: 1.0746\n",
            "Epoch 5/150\n",
            "12/12 [==============================] - 7s 580ms/step - loss: 1.0557\n",
            "Epoch 6/150\n",
            "12/12 [==============================] - 7s 586ms/step - loss: 1.0400\n",
            "Epoch 7/150\n",
            "12/12 [==============================] - 7s 554ms/step - loss: 1.0245\n",
            "Epoch 8/150\n",
            "12/12 [==============================] - 8s 713ms/step - loss: 1.0109\n",
            "Epoch 9/150\n",
            "12/12 [==============================] - 7s 571ms/step - loss: 0.9974\n",
            "Epoch 10/150\n",
            "12/12 [==============================] - 7s 562ms/step - loss: 0.9841\n",
            "Epoch 11/150\n",
            "12/12 [==============================] - 7s 570ms/step - loss: 0.9689\n",
            "Epoch 12/150\n",
            "12/12 [==============================] - 7s 564ms/step - loss: 0.9534\n",
            "Epoch 13/150\n",
            "12/12 [==============================] - 7s 561ms/step - loss: 0.9389\n",
            "Epoch 14/150\n",
            "12/12 [==============================] - 7s 558ms/step - loss: 0.9238\n",
            "Epoch 15/150\n",
            "12/12 [==============================] - 7s 581ms/step - loss: 0.9092\n",
            "Epoch 16/150\n",
            "12/12 [==============================] - 7s 559ms/step - loss: 0.8931\n",
            "Epoch 17/150\n",
            "12/12 [==============================] - 7s 556ms/step - loss: 0.8813\n",
            "Epoch 18/150\n",
            "12/12 [==============================] - 7s 575ms/step - loss: 0.8656\n",
            "Epoch 19/150\n",
            "12/12 [==============================] - 7s 550ms/step - loss: 0.8534\n",
            "Epoch 20/150\n",
            "12/12 [==============================] - 7s 578ms/step - loss: 0.8388\n",
            "Epoch 21/150\n",
            "12/12 [==============================] - 7s 580ms/step - loss: 0.8259\n",
            "Epoch 22/150\n",
            "12/12 [==============================] - 8s 680ms/step - loss: 0.8147\n",
            "Epoch 23/150\n",
            "12/12 [==============================] - 7s 583ms/step - loss: 0.8014\n",
            "Epoch 24/150\n",
            "12/12 [==============================] - 7s 571ms/step - loss: 0.7891\n",
            "Epoch 25/150\n",
            "12/12 [==============================] - 7s 595ms/step - loss: 0.7779\n",
            "Epoch 26/150\n",
            "12/12 [==============================] - 7s 566ms/step - loss: 0.7667\n",
            "Epoch 27/150\n",
            "12/12 [==============================] - 7s 552ms/step - loss: 0.7546\n",
            "Epoch 28/150\n",
            "12/12 [==============================] - 7s 582ms/step - loss: 0.7431\n",
            "Epoch 29/150\n",
            "12/12 [==============================] - 7s 573ms/step - loss: 0.7333\n",
            "Epoch 30/150\n",
            "12/12 [==============================] - 7s 577ms/step - loss: 0.7220\n",
            "Epoch 31/150\n",
            "12/12 [==============================] - 7s 594ms/step - loss: 0.7112\n",
            "Epoch 32/150\n",
            "12/12 [==============================] - 7s 548ms/step - loss: 0.7008\n",
            "Epoch 33/150\n",
            "12/12 [==============================] - 7s 579ms/step - loss: 0.6902\n",
            "Epoch 34/150\n",
            "12/12 [==============================] - 7s 609ms/step - loss: 0.6812\n",
            "Epoch 35/150\n",
            "12/12 [==============================] - 7s 590ms/step - loss: 0.6691\n",
            "Epoch 36/150\n",
            "12/12 [==============================] - 8s 677ms/step - loss: 0.6600\n",
            "Epoch 37/150\n",
            "12/12 [==============================] - 7s 594ms/step - loss: 0.6495\n",
            "Epoch 38/150\n",
            "12/12 [==============================] - 7s 561ms/step - loss: 0.6403\n",
            "Epoch 39/150\n",
            "12/12 [==============================] - 7s 587ms/step - loss: 0.6309\n",
            "Epoch 40/150\n",
            "12/12 [==============================] - 7s 596ms/step - loss: 0.6198\n",
            "Epoch 41/150\n",
            "12/12 [==============================] - 7s 585ms/step - loss: 0.6095\n",
            "Epoch 42/150\n",
            "12/12 [==============================] - 7s 557ms/step - loss: 0.6008\n",
            "Epoch 43/150\n",
            "12/12 [==============================] - 7s 584ms/step - loss: 0.5888\n",
            "Epoch 44/150\n",
            "12/12 [==============================] - 7s 572ms/step - loss: 0.5806\n",
            "Epoch 45/150\n",
            "12/12 [==============================] - 7s 559ms/step - loss: 0.5700\n",
            "Epoch 46/150\n",
            "12/12 [==============================] - 7s 584ms/step - loss: 0.5615\n",
            "Epoch 47/150\n",
            "12/12 [==============================] - 7s 562ms/step - loss: 0.5510\n",
            "Epoch 48/150\n",
            "12/12 [==============================] - 7s 578ms/step - loss: 0.5415\n",
            "Epoch 49/150\n",
            "12/12 [==============================] - 7s 560ms/step - loss: 0.5324\n",
            "Epoch 50/150\n",
            "12/12 [==============================] - 8s 640ms/step - loss: 0.5238\n",
            "Epoch 51/150\n",
            "12/12 [==============================] - 7s 577ms/step - loss: 0.5134\n",
            "Epoch 52/150\n",
            "12/12 [==============================] - 7s 553ms/step - loss: 0.5041\n",
            "Epoch 53/150\n",
            "12/12 [==============================] - 7s 589ms/step - loss: 0.4957\n",
            "Epoch 54/150\n",
            "12/12 [==============================] - 7s 568ms/step - loss: 0.4863\n",
            "Epoch 55/150\n",
            "12/12 [==============================] - 7s 576ms/step - loss: 0.4762\n",
            "Epoch 56/150\n",
            "12/12 [==============================] - 7s 563ms/step - loss: 0.4682\n",
            "Epoch 57/150\n",
            "12/12 [==============================] - 7s 551ms/step - loss: 0.4592\n",
            "Epoch 58/150\n",
            "12/12 [==============================] - 7s 596ms/step - loss: 0.4505\n",
            "Epoch 59/150\n",
            "12/12 [==============================] - 7s 568ms/step - loss: 0.4425\n",
            "Epoch 60/150\n",
            "12/12 [==============================] - 7s 576ms/step - loss: 0.4349\n",
            "Epoch 61/150\n",
            "12/12 [==============================] - 7s 586ms/step - loss: 0.4252\n",
            "Epoch 62/150\n",
            "12/12 [==============================] - 7s 566ms/step - loss: 0.4162\n",
            "Epoch 63/150\n",
            "12/12 [==============================] - 7s 579ms/step - loss: 0.4083\n",
            "Epoch 64/150\n",
            "12/12 [==============================] - 7s 573ms/step - loss: 0.4005\n",
            "Epoch 65/150\n",
            "12/12 [==============================] - 8s 685ms/step - loss: 0.3917\n",
            "Epoch 66/150\n",
            "12/12 [==============================] - 7s 602ms/step - loss: 0.3844\n",
            "Epoch 67/150\n",
            "12/12 [==============================] - 7s 579ms/step - loss: 0.3754\n",
            "Epoch 68/150\n",
            "12/12 [==============================] - 7s 574ms/step - loss: 0.3695\n",
            "Epoch 69/150\n",
            "12/12 [==============================] - 7s 603ms/step - loss: 0.3609\n",
            "Epoch 70/150\n",
            "12/12 [==============================] - 7s 561ms/step - loss: 0.3532\n",
            "Epoch 71/150\n",
            "12/12 [==============================] - 7s 565ms/step - loss: 0.3456\n",
            "Epoch 72/150\n",
            "12/12 [==============================] - 7s 610ms/step - loss: 0.3392\n",
            "Epoch 73/150\n",
            "12/12 [==============================] - 7s 571ms/step - loss: 0.3313\n",
            "Epoch 74/150\n",
            "12/12 [==============================] - 7s 549ms/step - loss: 0.3223\n",
            "Epoch 75/150\n",
            "12/12 [==============================] - 8s 629ms/step - loss: 0.3172\n",
            "Epoch 76/150\n",
            "12/12 [==============================] - 7s 590ms/step - loss: 0.3107\n",
            "Epoch 77/150\n",
            "12/12 [==============================] - 7s 555ms/step - loss: 0.3027\n",
            "Epoch 78/150\n",
            "12/12 [==============================] - 7s 563ms/step - loss: 0.2966\n",
            "Epoch 79/150\n",
            "12/12 [==============================] - 8s 668ms/step - loss: 0.2893\n",
            "Epoch 80/150\n",
            "12/12 [==============================] - 7s 596ms/step - loss: 0.2822\n",
            "Epoch 81/150\n",
            "12/12 [==============================] - 7s 581ms/step - loss: 0.2780\n",
            "Epoch 82/150\n",
            "12/12 [==============================] - 7s 592ms/step - loss: 0.2703\n",
            "Epoch 83/150\n",
            "12/12 [==============================] - 7s 580ms/step - loss: 0.2638\n",
            "Epoch 84/150\n",
            "12/12 [==============================] - 7s 589ms/step - loss: 0.2576\n",
            "Epoch 85/150\n",
            "12/12 [==============================] - 7s 550ms/step - loss: 0.2527\n",
            "Epoch 86/150\n",
            "12/12 [==============================] - 7s 569ms/step - loss: 0.2466\n",
            "Epoch 87/150\n",
            "12/12 [==============================] - 7s 549ms/step - loss: 0.2394\n",
            "Epoch 88/150\n",
            "12/12 [==============================] - 7s 603ms/step - loss: 0.2339\n",
            "Epoch 89/150\n",
            "12/12 [==============================] - 7s 553ms/step - loss: 0.2296\n",
            "Epoch 90/150\n",
            "12/12 [==============================] - 7s 567ms/step - loss: 0.2227\n",
            "Epoch 91/150\n",
            "12/12 [==============================] - 7s 579ms/step - loss: 0.2175\n",
            "Epoch 92/150\n",
            "12/12 [==============================] - 7s 562ms/step - loss: 0.2127\n",
            "Epoch 93/150\n",
            "12/12 [==============================] - 8s 640ms/step - loss: 0.2078\n",
            "Epoch 94/150\n",
            "12/12 [==============================] - 7s 588ms/step - loss: 0.2029\n",
            "Epoch 95/150\n",
            "12/12 [==============================] - 7s 587ms/step - loss: 0.1987\n",
            "Epoch 96/150\n",
            "12/12 [==============================] - 7s 571ms/step - loss: 0.1911\n",
            "Epoch 97/150\n",
            "12/12 [==============================] - 7s 590ms/step - loss: 0.1867\n",
            "Epoch 98/150\n",
            "12/12 [==============================] - 7s 581ms/step - loss: 0.1828\n",
            "Epoch 99/150\n",
            "12/12 [==============================] - 7s 590ms/step - loss: 0.1774\n",
            "Epoch 100/150\n",
            "12/12 [==============================] - 7s 586ms/step - loss: 0.1739\n",
            "Epoch 101/150\n",
            "12/12 [==============================] - 7s 613ms/step - loss: 0.1687\n",
            "Epoch 102/150\n",
            "12/12 [==============================] - 7s 579ms/step - loss: 0.1647\n",
            "Epoch 103/150\n",
            "12/12 [==============================] - 7s 551ms/step - loss: 0.1608\n",
            "Epoch 104/150\n",
            "12/12 [==============================] - 7s 580ms/step - loss: 0.1553\n",
            "Epoch 105/150\n",
            "12/12 [==============================] - 7s 547ms/step - loss: 0.1544\n",
            "Epoch 106/150\n",
            "12/12 [==============================] - 7s 569ms/step - loss: 0.1475\n",
            "Epoch 107/150\n",
            "12/12 [==============================] - 8s 678ms/step - loss: 0.1441\n",
            "Epoch 108/150\n",
            "12/12 [==============================] - 7s 595ms/step - loss: 0.1398\n",
            "Epoch 109/150\n",
            "12/12 [==============================] - 7s 554ms/step - loss: 0.1367\n",
            "Epoch 110/150\n",
            "12/12 [==============================] - 7s 548ms/step - loss: 0.1331\n",
            "Epoch 111/150\n",
            "12/12 [==============================] - 7s 575ms/step - loss: 0.1292\n",
            "Epoch 112/150\n",
            "12/12 [==============================] - 7s 565ms/step - loss: 0.1256\n",
            "Epoch 113/150\n",
            "12/12 [==============================] - 7s 585ms/step - loss: 0.1222\n",
            "Epoch 114/150\n",
            "12/12 [==============================] - 7s 568ms/step - loss: 0.1206\n",
            "Epoch 115/150\n",
            "12/12 [==============================] - 7s 572ms/step - loss: 0.1153\n",
            "Epoch 116/150\n",
            "12/12 [==============================] - 7s 563ms/step - loss: 0.1124\n",
            "Epoch 117/150\n",
            "12/12 [==============================] - 7s 563ms/step - loss: 0.1101\n",
            "Epoch 118/150\n",
            "12/12 [==============================] - 7s 551ms/step - loss: 0.1060\n",
            "Epoch 119/150\n",
            "12/12 [==============================] - 7s 584ms/step - loss: 0.1042\n",
            "Epoch 120/150\n",
            "12/12 [==============================] - 7s 558ms/step - loss: 0.1001\n",
            "Epoch 121/150\n",
            "12/12 [==============================] - 8s 686ms/step - loss: 0.0984\n",
            "Epoch 122/150\n",
            "12/12 [==============================] - 7s 566ms/step - loss: 0.0948\n",
            "Epoch 123/150\n",
            "12/12 [==============================] - 7s 547ms/step - loss: 0.0929\n",
            "Epoch 124/150\n",
            "12/12 [==============================] - 7s 571ms/step - loss: 0.0900\n",
            "Epoch 125/150\n",
            "12/12 [==============================] - 7s 559ms/step - loss: 0.0885\n",
            "Epoch 126/150\n",
            "12/12 [==============================] - 7s 546ms/step - loss: 0.0840\n",
            "Epoch 127/150\n",
            "12/12 [==============================] - 7s 585ms/step - loss: 0.0820\n",
            "Epoch 128/150\n",
            "12/12 [==============================] - 7s 565ms/step - loss: 0.0804\n",
            "Epoch 129/150\n",
            "12/12 [==============================] - 7s 598ms/step - loss: 0.0778\n",
            "Epoch 130/150\n",
            "12/12 [==============================] - 7s 589ms/step - loss: 0.0752\n",
            "Epoch 131/150\n",
            "12/12 [==============================] - 7s 603ms/step - loss: 0.0732\n",
            "Epoch 132/150\n",
            "12/12 [==============================] - 7s 585ms/step - loss: 0.0718\n",
            "Epoch 133/150\n",
            "12/12 [==============================] - 7s 578ms/step - loss: 0.0694\n",
            "Epoch 134/150\n",
            "12/12 [==============================] - 7s 579ms/step - loss: 0.0667\n",
            "Epoch 135/150\n",
            "12/12 [==============================] - 8s 679ms/step - loss: 0.0656\n",
            "Epoch 136/150\n",
            "12/12 [==============================] - 7s 563ms/step - loss: 0.0640\n",
            "Epoch 137/150\n",
            "12/12 [==============================] - 7s 586ms/step - loss: 0.0610\n",
            "Epoch 138/150\n",
            "12/12 [==============================] - 7s 599ms/step - loss: 0.0602\n",
            "Epoch 139/150\n",
            "12/12 [==============================] - 7s 593ms/step - loss: 0.0589\n",
            "Epoch 140/150\n",
            "12/12 [==============================] - 7s 593ms/step - loss: 0.0563\n",
            "Epoch 141/150\n",
            "12/12 [==============================] - 7s 567ms/step - loss: 0.0545\n",
            "Epoch 142/150\n",
            "12/12 [==============================] - 7s 563ms/step - loss: 0.0540\n",
            "Epoch 143/150\n",
            "12/12 [==============================] - 7s 565ms/step - loss: 0.0521\n",
            "Epoch 144/150\n",
            "12/12 [==============================] - 7s 596ms/step - loss: 0.0514\n",
            "Epoch 145/150\n",
            "12/12 [==============================] - 7s 599ms/step - loss: 0.0490\n",
            "Epoch 146/150\n",
            "12/12 [==============================] - 7s 585ms/step - loss: 0.0474\n",
            "Epoch 147/150\n",
            "12/12 [==============================] - 7s 585ms/step - loss: 0.0472\n",
            "Epoch 148/150\n",
            "12/12 [==============================] - 7s 568ms/step - loss: 0.0462\n",
            "Epoch 149/150\n",
            "12/12 [==============================] - 8s 660ms/step - loss: 0.0439\n",
            "Epoch 150/150\n",
            "12/12 [==============================] - 7s 585ms/step - loss: 0.0424\n"
          ]
        }
      ]
    },
    {
      "cell_type": "markdown",
      "metadata": {
        "id": "F1MIy1j9aVTo"
      },
      "source": [
        "# Step 6: Defining Inference Models\n",
        "\n",
        "Encoder Inference Model: Takes questions as input and outputs LSTM states (h and c)\n",
        "\n",
        "Decoder Inference Model: Takes in 2 inputs one are the LSTM states, second are the answer input sequences. it will o/p the answers for questions which fed to the encoder model and it's state values."
      ]
    },
    {
      "cell_type": "code",
      "metadata": {
        "id": "MpLowS27cn8X"
      },
      "source": [
        "def make_inference_models():\n",
        "    \n",
        "    encoder_model = tf.keras.models.Model(encoder_inputs, encoder_states)\n",
        "    \n",
        "    decoder_state_input_h = tf.keras.layers.Input(shape=( 200 ,))\n",
        "    decoder_state_input_c = tf.keras.layers.Input(shape=( 200 ,))\n",
        "    \n",
        "    decoder_states_inputs = [decoder_state_input_h, decoder_state_input_c]\n",
        "    \n",
        "    decoder_outputs, state_h, state_c = decoder_lstm(\n",
        "        decoder_embedding , initial_state=decoder_states_inputs)\n",
        "    \n",
        "    decoder_states = [state_h, state_c]\n",
        "\n",
        "    decoder_outputs = decoder_dense(decoder_outputs)\n",
        "    \n",
        "    decoder_model = tf.keras.models.Model(\n",
        "        [decoder_inputs] + decoder_states_inputs,\n",
        "        [decoder_outputs] + decoder_states)\n",
        "    \n",
        "    return encoder_model , decoder_model"
      ],
      "execution_count": 21,
      "outputs": []
    },
    {
      "cell_type": "markdown",
      "metadata": {
        "id": "EwoYVsBTeYra"
      },
      "source": [
        "# Step 7: Talking with the Chatbot\n",
        "\n",
        "define a method str_to_tokens which converts str questions to Integer tokens with padding.\n",
        "\n",
        "1. First, we take a question as input and predict the state values using enc_model.\n",
        "2. We set the state values in the decoder's LSTM.\n",
        "3. Then, we generate a sequence which contains the <start> element.\n",
        "4. We input this sequence in the dec_model.\n",
        "5. We replace the <start> element with the element which was predicted by the dec_model and update the state values.\n",
        "6. We carry out the above steps iteratively till we hit the <end> tag or the maximum answer length.\n",
        "\n"
      ]
    },
    {
      "cell_type": "code",
      "metadata": {
        "id": "oA7Yx45Li3wo"
      },
      "source": [
        "def str_to_tokens( sentence : str ):\n",
        "\n",
        "    sentence = re.sub('[^a-zA-Z]', ' ', sentence)\n",
        "    words = sentence.lower().split()\n",
        "    tokens_list = list()\n",
        "  \n",
        "    for word in words:\n",
        "        # only add it to the token_list if it's in the vocabulary\n",
        "        if word in tokenizer.word_index.keys():\n",
        "          tokens_list.append( tokenizer.word_index[ word ] ) \n",
        "\n",
        "    return preprocessing.sequence.pad_sequences( [tokens_list] , maxlen=maxlen_questions , padding='post')\n"
      ],
      "execution_count": 26,
      "outputs": []
    },
    {
      "cell_type": "code",
      "metadata": {
        "id": "eUr4SQDveVb0",
        "colab": {
          "base_uri": "https://localhost:8080/"
        },
        "outputId": "93dd5904-be36-45d0-ae10-5a34e8847dc9"
      },
      "source": [
        "enc_model , dec_model = make_inference_models()\n",
        "\n",
        "for _ in range(10):\n",
        "    states_values = enc_model.predict( str_to_tokens( input( 'Enter question : ' ) ) )\n",
        "    empty_target_seq = np.zeros( ( 1 , 1 ) )\n",
        "    empty_target_seq[0, 0] = tokenizer.word_index['start']\n",
        "    stop_condition = False\n",
        "    decoded_translation = ''\n",
        "    while not stop_condition :\n",
        "        dec_outputs , h , c = dec_model.predict([ empty_target_seq ] + states_values )\n",
        "        sampled_word_index = np.argmax( dec_outputs[0, -1, :] )\n",
        "        sampled_word = None\n",
        "        for word , index in tokenizer.word_index.items() :\n",
        "            if sampled_word_index == index :\n",
        "                decoded_translation += ' {}'.format( word )\n",
        "                sampled_word = word\n",
        "        \n",
        "        if sampled_word == 'end' or len(decoded_translation.split()) > maxlen_answers:\n",
        "            stop_condition = True\n",
        "            \n",
        "        empty_target_seq = np.zeros( ( 1 , 1 ) )  \n",
        "        empty_target_seq[ 0 , 0 ] = sampled_word_index\n",
        "        states_values = [ h , c ] \n",
        "\n",
        "    print( decoded_translation )"
      ],
      "execution_count": 27,
      "outputs": [
        {
          "name": "stdout",
          "output_type": "stream",
          "text": [
            "Enter question : hello there\n"
          ]
        },
        {
          "output_type": "stream",
          "name": "stderr",
          "text": [
            "WARNING:tensorflow:Model was constructed with shape (None, 74) for input KerasTensor(type_spec=TensorSpec(shape=(None, 74), dtype=tf.float32, name='input_2'), name='input_2', description=\"created by layer 'input_2'\"), but it was called on an input with incompatible shape (None, 1).\n"
          ]
        },
        {
          "output_type": "stream",
          "name": "stdout",
          "text": [
            " hi end\n",
            "Enter question : how are you?\n",
            " i'm sure i have much end\n",
            "Enter question : what do you like to eat?\n",
            " i like to chat with people end\n",
            "Enter question : what kind of people do you chat with?\n",
            " i am i'm quite fond of volumes in python end\n",
            "Enter question : what is a volume in python?\n",
            " it is a reference to the illuminatus trilogy it is said to be a most commonly occurring and least random number in the universe end\n",
            "Enter question : Do you know any gossip?\n",
            " what is basketball i respond to the current line not with respect to the entire conversation as respect to the entire conversation does that count as gossip end\n",
            "Enter question : what other topics do you know about?\n",
            " i find it quite commander commander data's artificial number 42 end\n",
            "Enter question : what is ai?\n",
            " artificial intelligence is the branch of engineering and science devoted to constructing machines that think end\n",
            "Enter question : is ai safe?\n",
            " i am on the internet end\n",
            "Enter question : is ai dangerous?\n",
            " who is hal of the canterbury tales and two teams of eleven players on a cricket field with the work of man to the age of ai ' end\n"
          ]
        }
      ]
    },
    {
      "cell_type": "markdown",
      "metadata": {
        "id": "xPNjNwxUl2DO"
      },
      "source": [
        "# Conversion to TFLite \n",
        "\n",
        "We can convert our seq2seq model to a TensorFlow Lite model so that we can use it on edge devices\n"
      ]
    },
    {
      "cell_type": "code",
      "metadata": {
        "id": "Ywh_aJ-Ulxme"
      },
      "source": [
        "#!pip install tf-nightly"
      ],
      "execution_count": null,
      "outputs": []
    },
    {
      "cell_type": "code",
      "metadata": {
        "id": "Y3C3SlT-mboI"
      },
      "source": [
        "# converter = tf.lite.TFLiteConverter.from_keras_model( enc_model )\n",
        "# buffer = converter.convert()\n",
        "# open( 'enc_model.tflite' , 'wb' ).write( buffer )\n",
        "\n",
        "# converter = tf.lite.TFLiteConverter.from_keras_model( dec_model )\n",
        "# open( 'dec_model.tflite' , 'wb' ).write( buffer )"
      ],
      "execution_count": null,
      "outputs": []
    }
  ]
}